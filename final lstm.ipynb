{
 "cells": [
  {
   "cell_type": "code",
   "execution_count": 1,
   "id": "cd7d8084",
   "metadata": {},
   "outputs": [],
   "source": [
    "import numpy as np\n",
    "import pandas as pd\n",
    "import matplotlib.pyplot as plt\n",
    "import pandas_datareader as pdr"
   ]
  },
  {
   "cell_type": "code",
   "execution_count": 2,
   "id": "1056639a",
   "metadata": {},
   "outputs": [
    {
     "name": "stdout",
     "output_type": "stream",
     "text": [
      "WARNING:tensorflow:Please fix your imports. Module tensorflow.python.training.tracking.base has been moved to tensorflow.python.trackable.base. The old module will be deleted in version 2.11.\n",
      "WARNING:tensorflow:Please fix your imports. Module tensorflow.python.training.checkpoint_management has been moved to tensorflow.python.checkpoint.checkpoint_management. The old module will be deleted in version 2.9.\n",
      "WARNING:tensorflow:Please fix your imports. Module tensorflow.python.training.tracking.resource has been moved to tensorflow.python.trackable.resource. The old module will be deleted in version 2.11.\n",
      "WARNING:tensorflow:Please fix your imports. Module tensorflow.python.training.tracking.util has been moved to tensorflow.python.checkpoint.checkpoint. The old module will be deleted in version 2.11.\n",
      "WARNING:tensorflow:Please fix your imports. Module tensorflow.python.training.tracking.base_delegate has been moved to tensorflow.python.trackable.base_delegate. The old module will be deleted in version 2.11.\n",
      "WARNING:tensorflow:Please fix your imports. Module tensorflow.python.training.tracking.graph_view has been moved to tensorflow.python.checkpoint.graph_view. The old module will be deleted in version 2.11.\n",
      "WARNING:tensorflow:Please fix your imports. Module tensorflow.python.training.tracking.python_state has been moved to tensorflow.python.trackable.python_state. The old module will be deleted in version 2.11.\n",
      "WARNING:tensorflow:Please fix your imports. Module tensorflow.python.training.saving.functional_saver has been moved to tensorflow.python.checkpoint.functional_saver. The old module will be deleted in version 2.11.\n",
      "WARNING:tensorflow:Please fix your imports. Module tensorflow.python.training.saving.checkpoint_options has been moved to tensorflow.python.checkpoint.checkpoint_options. The old module will be deleted in version 2.11.\n"
     ]
    }
   ],
   "source": [
    "from sklearn.preprocessing import MinMaxScaler\n",
    "from keras.layers import Dense, Dropout, LSTM\n",
    "from keras.models import Sequential, load_model"
   ]
  },
  {
   "cell_type": "code",
   "execution_count": 3,
   "id": "8b97f6b4",
   "metadata": {},
   "outputs": [
    {
     "data": {
      "text/html": [
       "<div>\n",
       "<style scoped>\n",
       "    .dataframe tbody tr th:only-of-type {\n",
       "        vertical-align: middle;\n",
       "    }\n",
       "\n",
       "    .dataframe tbody tr th {\n",
       "        vertical-align: top;\n",
       "    }\n",
       "\n",
       "    .dataframe thead th {\n",
       "        text-align: right;\n",
       "    }\n",
       "</style>\n",
       "<table border=\"1\" class=\"dataframe\">\n",
       "  <thead>\n",
       "    <tr style=\"text-align: right;\">\n",
       "      <th></th>\n",
       "      <th>Date</th>\n",
       "      <th>High</th>\n",
       "      <th>Low</th>\n",
       "      <th>Open</th>\n",
       "      <th>Close</th>\n",
       "      <th>Volume</th>\n",
       "      <th>Adj Close</th>\n",
       "    </tr>\n",
       "  </thead>\n",
       "  <tbody>\n",
       "    <tr>\n",
       "      <th>0</th>\n",
       "      <td>2012-05-24</td>\n",
       "      <td>20.589287</td>\n",
       "      <td>20.043928</td>\n",
       "      <td>20.566786</td>\n",
       "      <td>20.190001</td>\n",
       "      <td>496230000.0</td>\n",
       "      <td>17.262814</td>\n",
       "    </tr>\n",
       "    <tr>\n",
       "      <th>1</th>\n",
       "      <td>2012-05-25</td>\n",
       "      <td>20.208929</td>\n",
       "      <td>19.945356</td>\n",
       "      <td>20.163929</td>\n",
       "      <td>20.081785</td>\n",
       "      <td>328507200.0</td>\n",
       "      <td>17.170286</td>\n",
       "    </tr>\n",
       "    <tr>\n",
       "      <th>2</th>\n",
       "      <td>2012-05-29</td>\n",
       "      <td>20.500000</td>\n",
       "      <td>20.189644</td>\n",
       "      <td>20.389286</td>\n",
       "      <td>20.438213</td>\n",
       "      <td>380508800.0</td>\n",
       "      <td>17.475037</td>\n",
       "    </tr>\n",
       "    <tr>\n",
       "      <th>3</th>\n",
       "      <td>2012-05-30</td>\n",
       "      <td>20.713928</td>\n",
       "      <td>20.234285</td>\n",
       "      <td>20.328571</td>\n",
       "      <td>20.684643</td>\n",
       "      <td>529429600.0</td>\n",
       "      <td>17.685741</td>\n",
       "    </tr>\n",
       "    <tr>\n",
       "      <th>4</th>\n",
       "      <td>2012-05-31</td>\n",
       "      <td>20.767857</td>\n",
       "      <td>20.409286</td>\n",
       "      <td>20.740713</td>\n",
       "      <td>20.633215</td>\n",
       "      <td>491674400.0</td>\n",
       "      <td>17.641771</td>\n",
       "    </tr>\n",
       "  </tbody>\n",
       "</table>\n",
       "</div>"
      ],
      "text/plain": [
       "        Date       High        Low       Open      Close       Volume  \\\n",
       "0 2012-05-24  20.589287  20.043928  20.566786  20.190001  496230000.0   \n",
       "1 2012-05-25  20.208929  19.945356  20.163929  20.081785  328507200.0   \n",
       "2 2012-05-29  20.500000  20.189644  20.389286  20.438213  380508800.0   \n",
       "3 2012-05-30  20.713928  20.234285  20.328571  20.684643  529429600.0   \n",
       "4 2012-05-31  20.767857  20.409286  20.740713  20.633215  491674400.0   \n",
       "\n",
       "   Adj Close  \n",
       "0  17.262814  \n",
       "1  17.170286  \n",
       "2  17.475037  \n",
       "3  17.685741  \n",
       "4  17.641771  "
      ]
     },
     "execution_count": 3,
     "metadata": {},
     "output_type": "execute_result"
    }
   ],
   "source": [
    "from datetime import date\n",
    "from dateutil.relativedelta import relativedelta\n",
    "start = date.today() - relativedelta(years=10)\n",
    "end = date.today()\n",
    "\n",
    "df = pdr.DataReader('AAPL', 'yahoo', start, end)\n",
    "df = df.reset_index()\n",
    "df.head()"
   ]
  },
  {
   "cell_type": "code",
   "execution_count": 4,
   "id": "09549657",
   "metadata": {},
   "outputs": [
    {
     "data": {
      "text/plain": [
       "[<matplotlib.lines.Line2D at 0x14bbbec23a0>]"
      ]
     },
     "execution_count": 4,
     "metadata": {},
     "output_type": "execute_result"
    },
    {
     "data": {
      "image/png": "[encoded data removed]",
      "text/plain": [
       "<Figure size 432x288 with 1 Axes>"
      ]
     },
     "metadata": {
      "needs_background": "light"
     },
     "output_type": "display_data"
    }
   ],
   "source": [
    "plt.plot(df.Close)"
   ]
  },
  {
   "cell_type": "code",
   "execution_count": 5,
   "id": "acbafcb8",
   "metadata": {},
   "outputs": [],
   "source": [
    "data_training = pd.DataFrame(df['Close'][0:int(len(df)*0.70)])\n",
    "data_testing = pd.DataFrame(df['Close'][int(len(df)*0.70):int(len(df))])"
   ]
  },
  {
   "cell_type": "code",
   "execution_count": 6,
   "id": "c77c2434",
   "metadata": {},
   "outputs": [],
   "source": [
    "scaler = MinMaxScaler(feature_range=(0,1))\n",
    "\n",
    "data_training_array = scaler.fit_transform(data_training)"
   ]
  },
  {
   "cell_type": "code",
   "execution_count": 7,
   "id": "58df8e57",
   "metadata": {},
   "outputs": [],
   "source": [
    "x_train =[]\n",
    "y_train =[]\n",
    "\n",
    "for i in range(100, data_training_array.shape[0]):\n",
    "    x_train.append(data_training_array[i-100: i])\n",
    "    y_train.append(data_training_array[i, 0])\n",
    "\n",
    "x_train = np.array(x_train)\n",
    "y_train = np.array(y_train)"
   ]
  },
  {
   "cell_type": "code",
   "execution_count": 8,
   "id": "ded17ad2",
   "metadata": {},
   "outputs": [],
   "source": [
    "model = Sequential()\n",
    "model.add(LSTM(units = 50, activation = 'relu', return_sequences =True,\n",
    "              input_shape = (x_train.shape[1], 1)))\n",
    "model.add(Dropout(0.2))\n",
    "\n",
    "model.add(LSTM(units = 60, activation = 'relu', return_sequences =True))\n",
    "model.add(Dropout(0.3))\n",
    "\n",
    "\n",
    "model.add(LSTM(units = 80, activation = 'relu', return_sequences =True))\n",
    "model.add(Dropout(0.4))\n",
    "\n",
    "model.add(LSTM(units = 120, activation = 'relu'))\n",
    "model.add(Dropout(0.5))\n",
    "\n",
    "model.add(Dense(units = 1))"
   ]
  },
  {
   "cell_type": "code",
   "execution_count": 11,
   "id": "38178e69",
   "metadata": {},
   "outputs": [
    {
     "name": "stdout",
     "output_type": "stream",
     "text": [
      "Epoch 1/50\n",
      "52/52 [==============================] - 16s 223ms/step - loss: 0.0428 - accuracy: 6.0168e-04\n",
      "Epoch 2/50\n",
      "52/52 [==============================] - 11s 219ms/step - loss: 0.0103 - accuracy: 0.0012\n",
      "Epoch 3/50\n",
      "52/52 [==============================] - 11s 208ms/step - loss: 0.0091 - accuracy: 0.0012\n",
      "Epoch 4/50\n",
      "52/52 [==============================] - 11s 214ms/step - loss: 0.0068 - accuracy: 0.0012\n",
      "Epoch 5/50\n",
      "52/52 [==============================] - 11s 210ms/step - loss: 0.0068 - accuracy: 0.0012\n",
      "Epoch 6/50\n",
      "52/52 [==============================] - 12s 230ms/step - loss: 0.0063 - accuracy: 0.0012\n",
      "Epoch 7/50\n",
      "52/52 [==============================] - 12s 228ms/step - loss: 0.0059 - accuracy: 0.0012\n",
      "Epoch 8/50\n",
      "52/52 [==============================] - 14s 261ms/step - loss: 0.0060 - accuracy: 0.0012\n",
      "Epoch 9/50\n",
      "52/52 [==============================] - 12s 232ms/step - loss: 0.0057 - accuracy: 0.0012\n",
      "Epoch 10/50\n",
      "52/52 [==============================] - 11s 218ms/step - loss: 0.0053 - accuracy: 0.0012\n",
      "Epoch 11/50\n",
      "52/52 [==============================] - 11s 215ms/step - loss: 0.0055 - accuracy: 0.0012\n",
      "Epoch 12/50\n",
      "52/52 [==============================] - 11s 216ms/step - loss: 0.0046 - accuracy: 0.0012\n",
      "Epoch 13/50\n",
      "52/52 [==============================] - 11s 215ms/step - loss: 0.0051 - accuracy: 0.0012\n",
      "Epoch 14/50\n",
      "52/52 [==============================] - 11s 218ms/step - loss: 0.0054 - accuracy: 0.0012\n",
      "Epoch 15/50\n",
      "52/52 [==============================] - 11s 220ms/step - loss: 0.0050 - accuracy: 0.0012\n",
      "Epoch 16/50\n",
      "52/52 [==============================] - 11s 218ms/step - loss: 0.0042 - accuracy: 0.0012\n",
      "Epoch 17/50\n",
      "52/52 [==============================] - 12s 234ms/step - loss: 0.0046 - accuracy: 0.0012\n",
      "Epoch 18/50\n",
      "52/52 [==============================] - 13s 247ms/step - loss: 0.0047 - accuracy: 0.0012\n",
      "Epoch 19/50\n",
      "52/52 [==============================] - 13s 241ms/step - loss: 0.0040 - accuracy: 0.0012\n",
      "Epoch 20/50\n",
      "52/52 [==============================] - 15s 288ms/step - loss: 0.0039 - accuracy: 0.0012\n",
      "Epoch 21/50\n",
      "52/52 [==============================] - 13s 247ms/step - loss: 0.0037 - accuracy: 0.0012\n",
      "Epoch 22/50\n",
      "52/52 [==============================] - 13s 243ms/step - loss: 0.0039 - accuracy: 0.0012\n",
      "Epoch 23/50\n",
      "52/52 [==============================] - 13s 246ms/step - loss: 0.0038 - accuracy: 0.0012\n",
      "Epoch 24/50\n",
      "52/52 [==============================] - 13s 245ms/step - loss: 0.0040 - accuracy: 0.0012\n",
      "Epoch 25/50\n",
      "52/52 [==============================] - 13s 248ms/step - loss: 0.0032 - accuracy: 0.0012\n",
      "Epoch 26/50\n",
      "52/52 [==============================] - 13s 249ms/step - loss: 0.0034 - accuracy: 0.0012\n",
      "Epoch 27/50\n",
      "52/52 [==============================] - 18s 339ms/step - loss: 0.0035 - accuracy: 0.0012\n",
      "Epoch 28/50\n",
      "52/52 [==============================] - 16s 304ms/step - loss: 0.0035 - accuracy: 0.0012\n",
      "Epoch 29/50\n",
      "52/52 [==============================] - 14s 273ms/step - loss: 0.0035 - accuracy: 0.0012\n",
      "Epoch 30/50\n",
      "52/52 [==============================] - 14s 264ms/step - loss: 0.0035 - accuracy: 0.0012\n",
      "Epoch 31/50\n",
      "52/52 [==============================] - 14s 269ms/step - loss: 0.0035 - accuracy: 0.0012\n",
      "Epoch 32/50\n",
      "52/52 [==============================] - 14s 265ms/step - loss: 0.0035 - accuracy: 0.0012\n",
      "Epoch 33/50\n",
      "52/52 [==============================] - 14s 261ms/step - loss: 0.0031 - accuracy: 0.0012\n",
      "Epoch 34/50\n",
      "52/52 [==============================] - 14s 263ms/step - loss: 0.0030 - accuracy: 0.0012\n",
      "Epoch 35/50\n",
      "52/52 [==============================] - 14s 262ms/step - loss: 0.0028 - accuracy: 0.0012\n",
      "Epoch 36/50\n",
      "52/52 [==============================] - 14s 269ms/step - loss: 0.0030 - accuracy: 0.0012\n",
      "Epoch 37/50\n",
      "52/52 [==============================] - 14s 270ms/step - loss: 0.0027 - accuracy: 0.0012\n",
      "Epoch 38/50\n",
      "52/52 [==============================] - 14s 266ms/step - loss: 0.0028 - accuracy: 0.0012\n",
      "Epoch 39/50\n",
      "52/52 [==============================] - 14s 265ms/step - loss: 0.0027 - accuracy: 0.0012\n",
      "Epoch 40/50\n",
      "52/52 [==============================] - 14s 268ms/step - loss: 0.0028 - accuracy: 0.0012\n",
      "Epoch 41/50\n",
      "52/52 [==============================] - 14s 266ms/step - loss: 0.0025 - accuracy: 0.0012\n",
      "Epoch 42/50\n",
      "52/52 [==============================] - 14s 267ms/step - loss: 0.0027 - accuracy: 0.0012\n",
      "Epoch 43/50\n",
      "52/52 [==============================] - 15s 293ms/step - loss: 0.0026 - accuracy: 0.0012\n",
      "Epoch 44/50\n",
      "52/52 [==============================] - 14s 277ms/step - loss: 0.0024 - accuracy: 0.0012\n",
      "Epoch 45/50\n",
      "52/52 [==============================] - 14s 263ms/step - loss: 0.0028 - accuracy: 0.0012\n",
      "Epoch 46/50\n",
      "52/52 [==============================] - 14s 264ms/step - loss: 0.0025 - accuracy: 0.0012\n",
      "Epoch 47/50\n",
      "52/52 [==============================] - 14s 269ms/step - loss: 0.0024 - accuracy: 0.0012\n",
      "Epoch 48/50\n",
      "52/52 [==============================] - 14s 271ms/step - loss: 0.0026 - accuracy: 0.0012\n",
      "Epoch 49/50\n",
      "52/52 [==============================] - 14s 263ms/step - loss: 0.0026 - accuracy: 0.0012\n",
      "Epoch 50/50\n",
      "52/52 [==============================] - 14s 268ms/step - loss: 0.0026 - accuracy: 0.0012\n"
     ]
    },
    {
     "data": {
      "text/plain": [
       "<keras.callbacks.History at 0x14bbeb5bf40>"
      ]
     },
     "execution_count": 11,
     "metadata": {},
     "output_type": "execute_result"
    }
   ],
   "source": [
    "import keras_metrics as km\n",
    "model.compile(optimizer='adam', loss = 'mean_squared_error', metrics=['accuracy'])\n",
    "model.fit(x_train,y_train, epochs = 50)"
   ]
  },
  {
   "cell_type": "code",
   "execution_count": 12,
   "id": "863607a4",
   "metadata": {},
   "outputs": [
    {
     "name": "stdout",
     "output_type": "stream",
     "text": [
      "WARNING:tensorflow:Please fix your imports. Module tensorflow.python.training.tracking.trackable_utils has been moved to tensorflow.python.trackable.trackable_utils. The old module will be deleted in version 2.11.\n",
      "INFO:tensorflow:Assets written to: lstm_model\\assets\n"
     ]
    }
   ],
   "source": [
    "filename = \"lstm_model\"\n",
    "model.save(filename)"
   ]
  },
  {
   "cell_type": "code",
   "execution_count": 13,
   "id": "f47ea5fa",
   "metadata": {},
   "outputs": [],
   "source": [
    "past_100_days = data_training.tail(100)\n",
    "final_df = past_100_days.append(data_testing, ignore_index=True)\n",
    "input_data = scaler.fit_transform(final_df)"
   ]
  },
  {
   "cell_type": "code",
   "execution_count": 14,
   "id": "64f5c6ec",
   "metadata": {},
   "outputs": [],
   "source": [
    "x_test =[]\n",
    "y_test =[]\n",
    "\n",
    "for i in range(100, input_data.shape[0]):\n",
    "    x_test.append(input_data[i-100: i])\n",
    "    y_test.append(input_data[i, 0])\n",
    "\n",
    "x_test = np.array(x_test)\n",
    "y_test = np.array(y_test)"
   ]
  },
  {
   "cell_type": "code",
   "execution_count": 15,
   "id": "ae1d58d4",
   "metadata": {},
   "outputs": [
    {
     "name": "stdout",
     "output_type": "stream",
     "text": [
      "24/24 [==============================] - 4s 111ms/step\n"
     ]
    }
   ],
   "source": [
    "y_prediction = model.predict(x_test)"
   ]
  },
  {
   "cell_type": "code",
   "execution_count": 25,
   "id": "fb40de03",
   "metadata": {},
   "outputs": [],
   "source": [
    "scale = scaler.scale_\n",
    "scale_factor = 1/scale[0]\n",
    "y_prediction = y_prediction*scale_factor\n",
    "y_test = y_test*scale_factor"
   ]
  },
  {
   "cell_type": "code",
   "execution_count": 26,
   "id": "ca524e44",
   "metadata": {},
   "outputs": [
    {
     "data": {
      "image/png": "[encoded data removed]",
      "text/plain": [
       "<Figure size 864x432 with 1 Axes>"
      ]
     },
     "metadata": {
      "needs_background": "light"
     },
     "output_type": "display_data"
    }
   ],
   "source": [
    "plt.figure(figsize = (12,6))\n",
    "plt.plot(y_test, 'b', label = 'Original Price')\n",
    "plt.plot(y_prediction, 'r', label = 'Predicted Price')\n",
    "plt.title('Stock Price Prediction using LSTM')\n",
    "plt.xlabel('Time')\n",
    "plt.ylabel('Price')\n",
    "plt.legend()\n",
    "plt.show()"
   ]
  },
  {
   "cell_type": "code",
   "execution_count": 28,
   "id": "bf6d450f",
   "metadata": {},
   "outputs": [
    {
     "name": "stdout",
     "output_type": "stream",
     "text": [
      "Model: \"sequential\"\n",
      "_________________________________________________________________\n",
      " Layer (type)                Output Shape              Param #   \n",
      "=================================================================\n",
      " lstm (LSTM)                 (None, 100, 50)           10400     \n",
      "                                                                 \n",
      " dropout (Dropout)           (None, 100, 50)           0         \n",
      "                                                                 \n",
      " lstm_1 (LSTM)               (None, 100, 60)           26640     \n",
      "                                                                 \n",
      " dropout_1 (Dropout)         (None, 100, 60)           0         \n",
      "                                                                 \n",
      " lstm_2 (LSTM)               (None, 100, 80)           45120     \n",
      "                                                                 \n",
      " dropout_2 (Dropout)         (None, 100, 80)           0         \n",
      "                                                                 \n",
      " lstm_3 (LSTM)               (None, 120)               96480     \n",
      "                                                                 \n",
      " dropout_3 (Dropout)         (None, 120)               0         \n",
      "                                                                 \n",
      " dense (Dense)               (None, 1)                 121       \n",
      "                                                                 \n",
      "=================================================================\n",
      "Total params: 178,761\n",
      "Trainable params: 178,761\n",
      "Non-trainable params: 0\n",
      "_________________________________________________________________\n"
     ]
    }
   ],
   "source": [
    "model.summary()"
   ]
  },
  {
   "cell_type": "code",
   "execution_count": 47,
   "id": "cefcb451",
   "metadata": {},
   "outputs": [
    {
     "name": "stdout",
     "output_type": "stream",
     "text": [
      "MSE: 52.12491403871332\n",
      "MAE: 5.790802307229827\n",
      "RMSE: 7.2197585859025315\n",
      "MAPE: 0.8367147141209048\n"
     ]
    }
   ],
   "source": [
    "from sklearn.metrics import mean_squared_error, mean_absolute_error\n",
    "import math\n",
    "\n",
    "mse = mean_squared_error(y_test, y_prediction)\n",
    "print('MSE: '+str(mse))\n",
    "mae = mean_absolute_error(y_test, y_prediction)\n",
    "print('MAE: '+str(mae))\n",
    "rmse = math.sqrt(mean_squared_error(y_test, y_prediction))\n",
    "print('RMSE: '+str(rmse))\n",
    "mape = np.mean(np.abs(y_test - y_prediction )/np.abs(y_prediction))\n",
    "print('MAPE: '+str(mape))"
   ]
  },
  {
   "cell_type": "code",
   "execution_count": 50,
   "id": "5222250b",
   "metadata": {},
   "outputs": [
    {
     "name": "stdout",
     "output_type": "stream",
     "text": [
      "MAPE: 1.0334430152623546\n"
     ]
    }
   ],
   "source": [
    "mape = np.mean(np.abs( y_prediction-y_test )/np.abs(y_test ))\n",
    "print('MAPE: '+str(mape))"
   ]
  },
  {
   "cell_type": "code",
   "execution_count": 49,
   "id": "f2f750de",
   "metadata": {},
   "outputs": [
    {
     "ename": "AttributeError",
     "evalue": "'numpy.ndarray' object has no attribute 'head'",
     "output_type": "error",
     "traceback": [
      "\u001b[1;31m---------------------------------------------------------------------------\u001b[0m",
      "\u001b[1;31mAttributeError\u001b[0m                            Traceback (most recent call last)",
      "\u001b[1;32m~\\AppData\\Local\\Temp/ipykernel_27144/2942260710.py\u001b[0m in \u001b[0;36m<module>\u001b[1;34m\u001b[0m\n\u001b[1;32m----> 1\u001b[1;33m \u001b[0my_prediction\u001b[0m\u001b[1;33m.\u001b[0m\u001b[0mhead\u001b[0m\u001b[1;33m(\u001b[0m\u001b[1;33m)\u001b[0m\u001b[1;33m\u001b[0m\u001b[1;33m\u001b[0m\u001b[0m\n\u001b[0m",
      "\u001b[1;31mAttributeError\u001b[0m: 'numpy.ndarray' object has no attribute 'head'"
     ]
    }
   ],
   "source": [
    "y_prediction.head()"
   ]
  },
  {
   "cell_type": "code",
   "execution_count": 46,
   "id": "ae72117a",
   "metadata": {},
   "outputs": [
    {
     "data": {
      "text/html": [
       "<div>\n",
       "<style scoped>\n",
       "    .dataframe tbody tr th:only-of-type {\n",
       "        vertical-align: middle;\n",
       "    }\n",
       "\n",
       "    .dataframe tbody tr th {\n",
       "        vertical-align: top;\n",
       "    }\n",
       "\n",
       "    .dataframe thead th {\n",
       "        text-align: right;\n",
       "    }\n",
       "</style>\n",
       "<table border=\"1\" class=\"dataframe\">\n",
       "  <thead>\n",
       "    <tr style=\"text-align: right;\">\n",
       "      <th></th>\n",
       "      <th>Close</th>\n",
       "    </tr>\n",
       "  </thead>\n",
       "  <tbody>\n",
       "    <tr>\n",
       "      <th>0</th>\n",
       "      <td>20.190001</td>\n",
       "    </tr>\n",
       "    <tr>\n",
       "      <th>1</th>\n",
       "      <td>20.081785</td>\n",
       "    </tr>\n",
       "    <tr>\n",
       "      <th>2</th>\n",
       "      <td>20.438213</td>\n",
       "    </tr>\n",
       "    <tr>\n",
       "      <th>3</th>\n",
       "      <td>20.684643</td>\n",
       "    </tr>\n",
       "    <tr>\n",
       "      <th>4</th>\n",
       "      <td>20.633215</td>\n",
       "    </tr>\n",
       "  </tbody>\n",
       "</table>\n",
       "</div>"
      ],
      "text/plain": [
       "       Close\n",
       "0  20.190001\n",
       "1  20.081785\n",
       "2  20.438213\n",
       "3  20.684643\n",
       "4  20.633215"
      ]
     },
     "execution_count": 46,
     "metadata": {},
     "output_type": "execute_result"
    }
   ],
   "source": []
  },
  {
   "cell_type": "code",
   "execution_count": null,
   "id": "0908f95e",
   "metadata": {},
   "outputs": [],
   "source": []
  }
 ],
 "metadata": {
  "kernelspec": {
   "display_name": "Python 3 (ipykernel)",
   "language": "python",
   "name": "python3"
  },
  "language_info": {
   "codemirror_mode": {
    "name": "ipython",
    "version": 3
   },
   "file_extension": ".py",
   "mimetype": "text/x-python",
   "name": "python",
   "nbconvert_exporter": "python",
   "pygments_lexer": "ipython3",
   "version": "3.9.7"
  }
 },
 "nbformat": 4,
 "nbformat_minor": 5
}
